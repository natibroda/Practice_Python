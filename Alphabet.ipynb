{
 "cells": [
  {
   "cell_type": "markdown",
   "metadata": {},
   "source": [
    "\"Just for fun\" excercise from Udemy Complete Python Bootcamp\n",
    "\n",
    "Just for fun:\n",
    "\n",
    "PRINT BIG: Write a function that takes in a single letter, and returns a 5x5 representation of that letter.\n",
    "\n",
    "print_big('a')\n",
    "\n",
    "out:   *  \n",
    "      * *\n",
    "     *****\n",
    "     *   *\n",
    "     *   *\n",
    "\n",
    "HINT: Consider making a dictionary of possible patterns, and mapping the alphabet to specific 5-line combinations of patterns. \n",
    "For purposes of this exercise, it's ok if your dictionary stops at \"E\"."
   ]
  },
  {
   "cell_type": "markdown",
   "metadata": {},
   "source": [
    "# use 5x5 matrix to represent each letter. 0 corresponds to ' ' and 1 corresponds to '*'"
   ]
  },
  {
   "cell_type": "code",
   "execution_count": 47,
   "metadata": {},
   "outputs": [],
   "source": [
    "A = [[0,0,1,0,0],[0,1,0,1,0],[1,1,1,1,1],[1,0,0,0,1],[1,0,0,0,1]]\n",
    "B = [[1,1,1,1,0],[1,0,0,0,1],[1,1,1,1,0],[1,0,0,0,1],[1,1,1,1,0]]\n",
    "C = [[0,1,1,1,0],[1,0,0,0,1],[1,0,0,0,0],[1,0,0,0,1],[0,1,1,1,0]]\n",
    "D = [[1,1,1,1,0],[1,0,0,0,1],[1,0,0,0,1],[1,0,0,0,1],[1,1,1,1,0]]\n",
    "E = [[1,1,1,1,1],[1,0,0,0,0],[1,1,1,0,0],[1,0,0,0,0],[1,1,1,1,1]]\n",
    "F = [[1,1,1,1,1],[1,0,0,0,0],[1,1,1,0,0],[1,0,0,0,0],[1,0,0,0,0]]\n",
    "G = [[0,1,1,1,1],[1,0,0,0,0],[1,0,0,1,1],[1,0,0,0,1],[0,1,1,1,1]]\n",
    "H = [[1,0,0,0,1],[1,0,0,0,1],[1,1,1,1,1],[1,0,0,0,1],[1,0,0,0,1]]\n",
    "I = [[1,1,1,1,1],[0,0,1,0,0],[0,0,1,0,0],[0,0,1,0,0],[1,1,1,1,1]]\n",
    "J = [[0,0,0,0,1],[0,0,0,0,1],[0,0,0,0,1],[1,0,0,0,1],[0,1,1,1,0]]\n",
    "K = [[1,0,0,0,1],[1,0,0,1,0],[1,1,1,0,0],[1,0,0,1,0],[1,0,0,0,1]]\n",
    "L = [[1,0,0,0,0],[1,0,0,0,0],[1,0,0,0,0],[1,0,0,0,0],[1,1,1,1,1]]\n",
    "M = [[1,0,0,0,1],[1,1,0,1,1],[1,0,1,0,1],[1,0,0,0,1],[1,0,0,0,1]]\n",
    "N = [[1,0,0,0,1],[1,1,0,0,1],[1,0,1,0,1],[1,0,0,1,1],[1,0,0,0,1]]\n",
    "O = [[0,1,1,1,0],[1,0,0,0,1],[1,0,0,0,1],[1,0,0,0,1],[0,1,1,1,0]]\n",
    "P = [[1,1,1,1,0],[1,0,0,0,1],[1,1,1,1,0],[1,0,0,0,0],[1,0,0,0,0]]\n",
    "Q = [[0,1,1,1,0],[1,0,0,0,1],[1,0,0,0,1],[1,0,0,1,1],[0,1,1,1,1]]\n",
    "R = [[1,1,1,1,0],[1,0,0,0,1],[1,1,1,1,0],[1,0,0,0,1],[1,0,0,0,1]]\n",
    "S = [[0,1,1,1,1],[1,0,0,0,0],[0,1,1,1,0],[0,0,0,0,1],[1,1,1,1,0]]\n",
    "T = [[1,1,1,1,1],[0,0,1,0,0],[0,0,1,0,0],[0,0,1,0,0],[0,0,1,0,0]]\n",
    "U = [[1,0,0,0,1],[1,0,0,0,1],[1,0,0,0,1],[1,0,0,0,1],[0,1,1,1,0]]\n",
    "V = [[1,0,0,0,1],[1,0,0,0,1],[1,0,0,0,1],[0,1,0,1,0],[0,0,1,0,0]]\n",
    "W = [[1,0,0,0,1],[1,0,0,0,1],[1,0,1,0,1],[1,0,1,0,1],[0,1,0,1,0]]\n",
    "X = [[1,0,0,0,1],[0,1,0,1,0],[0,0,1,0,0],[0,1,0,1,0],[1,0,0,0,1]]\n",
    "Y = [[1,0,0,0,1],[0,1,0,1,0],[0,0,1,0,0],[0,0,1,0,0],[0,0,1,0,0]]\n",
    "Z = [[1,1,1,1,1],[0,0,0,1,0],[0,0,1,0,0],[0,1,0,0,0],[1,1,1,1,1]]"
   ]
  },
  {
   "cell_type": "markdown",
   "metadata": {},
   "source": [
    "# store patterns in a dictionary"
   ]
  },
  {
   "cell_type": "code",
   "execution_count": 48,
   "metadata": {},
   "outputs": [],
   "source": [
    "alphabet = {'a':A, 'b':B, 'c':C, 'd':D, 'e':E, 'f':F, 'g':G, 'h':H, 'i':I, 'j':J, 'k':K, 'l':L, 'm':M, 'n':N, 'o':O, 'p':P, 'r':R, 's':S, 't':T, 'u':U, 'v':V, 'w':W, 'x':X, 'y':Y, 'z':Z}"
   ]
  },
  {
   "cell_type": "code",
   "execution_count": 49,
   "metadata": {},
   "outputs": [
    {
     "data": {
      "text/plain": [
       "{'a': [[0, 0, 1, 0, 0],\n",
       "  [0, 1, 0, 1, 0],\n",
       "  [1, 1, 1, 1, 1],\n",
       "  [1, 0, 0, 0, 1],\n",
       "  [1, 0, 0, 0, 1]],\n",
       " 'b': [[1, 1, 1, 1, 0],\n",
       "  [1, 0, 0, 0, 1],\n",
       "  [1, 1, 1, 1, 0],\n",
       "  [1, 0, 0, 0, 1],\n",
       "  [1, 1, 1, 1, 0]],\n",
       " 'c': [[0, 1, 1, 1, 0],\n",
       "  [1, 0, 0, 0, 1],\n",
       "  [1, 0, 0, 0, 0],\n",
       "  [1, 0, 0, 0, 1],\n",
       "  [0, 1, 1, 1, 0]],\n",
       " 'd': [[1, 1, 1, 1, 0],\n",
       "  [1, 0, 0, 0, 1],\n",
       "  [1, 0, 0, 0, 1],\n",
       "  [1, 0, 0, 0, 1],\n",
       "  [1, 1, 1, 1, 0]],\n",
       " 'e': [[1, 1, 1, 1, 1],\n",
       "  [1, 0, 0, 0, 0],\n",
       "  [1, 1, 1, 0, 0],\n",
       "  [1, 0, 0, 0, 0],\n",
       "  [1, 1, 1, 1, 1]],\n",
       " 'f': [[1, 1, 1, 1, 1],\n",
       "  [1, 0, 0, 0, 0],\n",
       "  [1, 1, 1, 0, 0],\n",
       "  [1, 0, 0, 0, 0],\n",
       "  [1, 0, 0, 0, 0]],\n",
       " 'g': [[0, 1, 1, 1, 1],\n",
       "  [1, 0, 0, 0, 0],\n",
       "  [1, 0, 0, 1, 1],\n",
       "  [1, 0, 0, 0, 1],\n",
       "  [0, 1, 1, 1, 1]],\n",
       " 'h': [[1, 0, 0, 0, 1],\n",
       "  [1, 0, 0, 0, 1],\n",
       "  [1, 1, 1, 1, 1],\n",
       "  [1, 0, 0, 0, 1],\n",
       "  [1, 0, 0, 0, 1]],\n",
       " 'i': [[1, 1, 1, 1, 1],\n",
       "  [0, 0, 1, 0, 0],\n",
       "  [0, 0, 1, 0, 0],\n",
       "  [0, 0, 1, 0, 0],\n",
       "  [1, 1, 1, 1, 1]],\n",
       " 'j': [[0, 0, 0, 0, 1],\n",
       "  [0, 0, 0, 0, 1],\n",
       "  [0, 0, 0, 0, 1],\n",
       "  [1, 0, 0, 0, 1],\n",
       "  [0, 1, 1, 1, 0]],\n",
       " 'k': [[1, 0, 0, 0, 1],\n",
       "  [1, 0, 0, 1, 0],\n",
       "  [1, 1, 1, 0, 0],\n",
       "  [1, 0, 0, 1, 0],\n",
       "  [1, 0, 0, 0, 1]],\n",
       " 'l': [[1, 0, 0, 0, 0],\n",
       "  [1, 0, 0, 0, 0],\n",
       "  [1, 0, 0, 0, 0],\n",
       "  [1, 0, 0, 0, 0],\n",
       "  [1, 1, 1, 1, 1]],\n",
       " 'm': [[1, 0, 0, 0, 1],\n",
       "  [1, 1, 0, 1, 1],\n",
       "  [1, 0, 1, 0, 1],\n",
       "  [1, 0, 0, 0, 1],\n",
       "  [1, 0, 0, 0, 1]],\n",
       " 'n': [[1, 0, 0, 0, 1],\n",
       "  [1, 1, 0, 0, 1],\n",
       "  [1, 0, 1, 0, 1],\n",
       "  [1, 0, 0, 1, 1],\n",
       "  [1, 0, 0, 0, 1]],\n",
       " 'o': [[0, 1, 1, 1, 0],\n",
       "  [1, 0, 0, 0, 1],\n",
       "  [1, 0, 0, 0, 1],\n",
       "  [1, 0, 0, 0, 1],\n",
       "  [0, 1, 1, 1, 0]],\n",
       " 'p': [[1, 1, 1, 1, 0],\n",
       "  [1, 0, 0, 0, 1],\n",
       "  [1, 1, 1, 1, 0],\n",
       "  [1, 0, 0, 0, 0],\n",
       "  [1, 0, 0, 0, 0]],\n",
       " 'r': [[1, 1, 1, 1, 0],\n",
       "  [1, 0, 0, 0, 1],\n",
       "  [1, 1, 1, 1, 0],\n",
       "  [1, 0, 0, 0, 1],\n",
       "  [1, 0, 0, 0, 1]],\n",
       " 's': [[0, 1, 1, 1, 1],\n",
       "  [1, 0, 0, 0, 0],\n",
       "  [0, 1, 1, 1, 0],\n",
       "  [0, 0, 0, 0, 1],\n",
       "  [1, 1, 1, 1, 0]],\n",
       " 't': [[1, 1, 1, 1, 1],\n",
       "  [0, 0, 1, 0, 0],\n",
       "  [0, 0, 1, 0, 0],\n",
       "  [0, 0, 1, 0, 0],\n",
       "  [0, 0, 1, 0, 0]],\n",
       " 'u': [[1, 0, 0, 0, 1],\n",
       "  [1, 0, 0, 0, 1],\n",
       "  [1, 0, 0, 0, 1],\n",
       "  [1, 0, 0, 0, 1],\n",
       "  [0, 1, 1, 1, 0]],\n",
       " 'v': [[1, 0, 0, 0, 1],\n",
       "  [1, 0, 0, 0, 1],\n",
       "  [1, 0, 0, 0, 1],\n",
       "  [0, 1, 0, 1, 0],\n",
       "  [0, 0, 1, 0, 0]],\n",
       " 'w': [[1, 0, 0, 0, 1],\n",
       "  [1, 0, 0, 0, 1],\n",
       "  [1, 0, 1, 0, 1],\n",
       "  [1, 0, 1, 0, 1],\n",
       "  [0, 1, 0, 1, 0]],\n",
       " 'x': [[1, 0, 0, 0, 1],\n",
       "  [0, 1, 0, 1, 0],\n",
       "  [0, 0, 1, 0, 0],\n",
       "  [0, 1, 0, 1, 0],\n",
       "  [1, 0, 0, 0, 1]],\n",
       " 'y': [[1, 0, 0, 0, 1],\n",
       "  [0, 1, 0, 1, 0],\n",
       "  [0, 0, 1, 0, 0],\n",
       "  [0, 0, 1, 0, 0],\n",
       "  [0, 0, 1, 0, 0]],\n",
       " 'z': [[1, 1, 1, 1, 1],\n",
       "  [0, 0, 0, 1, 0],\n",
       "  [0, 0, 1, 0, 0],\n",
       "  [0, 1, 0, 0, 0],\n",
       "  [1, 1, 1, 1, 1]]}"
      ]
     },
     "execution_count": 49,
     "metadata": {},
     "output_type": "execute_result"
    }
   ],
   "source": [
    "alphabet"
   ]
  },
  {
   "cell_type": "markdown",
   "metadata": {},
   "source": [
    "# write a function to print a pattern"
   ]
  },
  {
   "cell_type": "code",
   "execution_count": 38,
   "metadata": {},
   "outputs": [],
   "source": [
    "def print_letter(letter):\n",
    "    alphabet = {'a':A, 'b':B, 'c':C, 'd':D, 'e':E, 'f':F, 'g':G, 'h':H, 'i':I, 'j':J, 'k':K, 'l':L, 'm':M, 'n':N, 'o':O, 'p':P, \n",
    "                'r':R, 's':S, 't':T, 'u':U, 'v':V, 'w':W, 'x':X, 'y':Y, 'z':Z}\n",
    "    for i in range (0,5):\n",
    "        line = alphabet[letter][i]\n",
    "        pattern = ''\n",
    "        for n in line:\n",
    "            if n == 0:\n",
    "                pattern += ' '\n",
    "            else:\n",
    "                pattern += '*'\n",
    "        print(pattern)"
   ]
  },
  {
   "cell_type": "code",
   "execution_count": 39,
   "metadata": {},
   "outputs": [
    {
     "name": "stdout",
     "output_type": "stream",
     "text": [
      "  *  \n",
      " * * \n",
      "*****\n",
      "*   *\n",
      "*   *\n"
     ]
    }
   ],
   "source": [
    "# for code to work, letter must be input in a format 'a', 'b', etc.\n",
    "print_letter('a')"
   ]
  },
  {
   "cell_type": "code",
   "execution_count": 40,
   "metadata": {},
   "outputs": [
    {
     "name": "stdout",
     "output_type": "stream",
     "text": [
      "**** \n",
      "*   *\n",
      "**** \n",
      "*   *\n",
      "**** \n"
     ]
    }
   ],
   "source": [
    "print_letter('b')"
   ]
  },
  {
   "cell_type": "code",
   "execution_count": 41,
   "metadata": {},
   "outputs": [
    {
     "name": "stdout",
     "output_type": "stream",
     "text": [
      " *** \n",
      "*   *\n",
      "*    \n",
      "*   *\n",
      " *** \n"
     ]
    }
   ],
   "source": [
    "print_letter('c')"
   ]
  },
  {
   "cell_type": "code",
   "execution_count": 42,
   "metadata": {},
   "outputs": [
    {
     "name": "stdout",
     "output_type": "stream",
     "text": [
      "**** \n",
      "*   *\n",
      "*   *\n",
      "*   *\n",
      "**** \n"
     ]
    }
   ],
   "source": [
    "print_letter('d')"
   ]
  },
  {
   "cell_type": "code",
   "execution_count": 43,
   "metadata": {},
   "outputs": [
    {
     "name": "stdout",
     "output_type": "stream",
     "text": [
      "*****\n",
      "*    \n",
      "***  \n",
      "*    \n",
      "*****\n"
     ]
    }
   ],
   "source": [
    "print_letter('e')"
   ]
  },
  {
   "cell_type": "code",
   "execution_count": 44,
   "metadata": {},
   "outputs": [
    {
     "name": "stdout",
     "output_type": "stream",
     "text": [
      "*****\n",
      "*    \n",
      "***  \n",
      "*    \n",
      "*    \n"
     ]
    }
   ],
   "source": [
    "print_letter('f')"
   ]
  },
  {
   "cell_type": "code",
   "execution_count": 45,
   "metadata": {},
   "outputs": [
    {
     "name": "stdout",
     "output_type": "stream",
     "text": [
      " ****\n",
      "*    \n",
      "*  **\n",
      "*   *\n",
      " ****\n"
     ]
    }
   ],
   "source": [
    "print_letter('g')"
   ]
  },
  {
   "cell_type": "code",
   "execution_count": 50,
   "metadata": {},
   "outputs": [
    {
     "name": "stdout",
     "output_type": "stream",
     "text": [
      "*   *\n",
      "*   *\n",
      "*****\n",
      "*   *\n",
      "*   *\n"
     ]
    }
   ],
   "source": [
    "print_letter('h')"
   ]
  },
  {
   "cell_type": "code",
   "execution_count": 51,
   "metadata": {},
   "outputs": [
    {
     "name": "stdout",
     "output_type": "stream",
     "text": [
      "*****\n",
      "  *  \n",
      "  *  \n",
      "  *  \n",
      "*****\n"
     ]
    }
   ],
   "source": [
    "print_letter('i')"
   ]
  },
  {
   "cell_type": "code",
   "execution_count": 52,
   "metadata": {},
   "outputs": [
    {
     "name": "stdout",
     "output_type": "stream",
     "text": [
      "    *\n",
      "    *\n",
      "    *\n",
      "*   *\n",
      " *** \n"
     ]
    }
   ],
   "source": [
    "print_letter('j')"
   ]
  },
  {
   "cell_type": "code",
   "execution_count": 53,
   "metadata": {},
   "outputs": [
    {
     "name": "stdout",
     "output_type": "stream",
     "text": [
      "*   *\n",
      "*  * \n",
      "***  \n",
      "*  * \n",
      "*   *\n"
     ]
    }
   ],
   "source": [
    "print_letter('k')"
   ]
  },
  {
   "cell_type": "code",
   "execution_count": 54,
   "metadata": {},
   "outputs": [
    {
     "name": "stdout",
     "output_type": "stream",
     "text": [
      "*    \n",
      "*    \n",
      "*    \n",
      "*    \n",
      "*****\n"
     ]
    }
   ],
   "source": [
    "print_letter('l')"
   ]
  },
  {
   "cell_type": "code",
   "execution_count": 55,
   "metadata": {},
   "outputs": [
    {
     "name": "stdout",
     "output_type": "stream",
     "text": [
      "*   *\n",
      "** **\n",
      "* * *\n",
      "*   *\n",
      "*   *\n"
     ]
    }
   ],
   "source": [
    "print_letter('m')"
   ]
  },
  {
   "cell_type": "code",
   "execution_count": 56,
   "metadata": {},
   "outputs": [
    {
     "name": "stdout",
     "output_type": "stream",
     "text": [
      "*   *\n",
      "**  *\n",
      "* * *\n",
      "*  **\n",
      "*   *\n"
     ]
    }
   ],
   "source": [
    "print_letter('n')"
   ]
  },
  {
   "cell_type": "code",
   "execution_count": 57,
   "metadata": {},
   "outputs": [
    {
     "name": "stdout",
     "output_type": "stream",
     "text": [
      " *** \n",
      "*   *\n",
      "*   *\n",
      "*   *\n",
      " *** \n"
     ]
    }
   ],
   "source": [
    "print_letter('o')"
   ]
  },
  {
   "cell_type": "code",
   "execution_count": 58,
   "metadata": {},
   "outputs": [
    {
     "name": "stdout",
     "output_type": "stream",
     "text": [
      "**** \n",
      "*   *\n",
      "**** \n",
      "*    \n",
      "*    \n"
     ]
    }
   ],
   "source": [
    "print_letter('p')"
   ]
  },
  {
   "cell_type": "code",
   "execution_count": 59,
   "metadata": {},
   "outputs": [
    {
     "name": "stdout",
     "output_type": "stream",
     "text": [
      "**** \n",
      "*   *\n",
      "**** \n",
      "*   *\n",
      "*   *\n"
     ]
    }
   ],
   "source": [
    "print_letter('r')"
   ]
  },
  {
   "cell_type": "code",
   "execution_count": 60,
   "metadata": {},
   "outputs": [
    {
     "name": "stdout",
     "output_type": "stream",
     "text": [
      " ****\n",
      "*    \n",
      " *** \n",
      "    *\n",
      "**** \n"
     ]
    }
   ],
   "source": [
    "print_letter('s')"
   ]
  },
  {
   "cell_type": "code",
   "execution_count": 61,
   "metadata": {},
   "outputs": [
    {
     "name": "stdout",
     "output_type": "stream",
     "text": [
      "*****\n",
      "  *  \n",
      "  *  \n",
      "  *  \n",
      "  *  \n"
     ]
    }
   ],
   "source": [
    "print_letter('t')"
   ]
  },
  {
   "cell_type": "code",
   "execution_count": 62,
   "metadata": {},
   "outputs": [
    {
     "name": "stdout",
     "output_type": "stream",
     "text": [
      "*   *\n",
      "*   *\n",
      "*   *\n",
      "*   *\n",
      " *** \n"
     ]
    }
   ],
   "source": [
    "print_letter('u')"
   ]
  },
  {
   "cell_type": "code",
   "execution_count": 63,
   "metadata": {},
   "outputs": [
    {
     "name": "stdout",
     "output_type": "stream",
     "text": [
      "*   *\n",
      "*   *\n",
      "*   *\n",
      " * * \n",
      "  *  \n"
     ]
    }
   ],
   "source": [
    "print_letter('v')"
   ]
  },
  {
   "cell_type": "code",
   "execution_count": 64,
   "metadata": {},
   "outputs": [
    {
     "name": "stdout",
     "output_type": "stream",
     "text": [
      "*   *\n",
      "*   *\n",
      "* * *\n",
      "* * *\n",
      " * * \n"
     ]
    }
   ],
   "source": [
    "print_letter('w')"
   ]
  },
  {
   "cell_type": "code",
   "execution_count": 65,
   "metadata": {},
   "outputs": [
    {
     "name": "stdout",
     "output_type": "stream",
     "text": [
      "*   *\n",
      " * * \n",
      "  *  \n",
      " * * \n",
      "*   *\n"
     ]
    }
   ],
   "source": [
    "print_letter('x')"
   ]
  },
  {
   "cell_type": "code",
   "execution_count": 66,
   "metadata": {},
   "outputs": [
    {
     "name": "stdout",
     "output_type": "stream",
     "text": [
      "*   *\n",
      " * * \n",
      "  *  \n",
      "  *  \n",
      "  *  \n"
     ]
    }
   ],
   "source": [
    "print_letter('y')"
   ]
  },
  {
   "cell_type": "code",
   "execution_count": 67,
   "metadata": {},
   "outputs": [
    {
     "name": "stdout",
     "output_type": "stream",
     "text": [
      "*****\n",
      "   * \n",
      "  *  \n",
      " *   \n",
      "*****\n"
     ]
    }
   ],
   "source": [
    "print_letter('z')"
   ]
  },
  {
   "cell_type": "code",
   "execution_count": null,
   "metadata": {},
   "outputs": [],
   "source": []
  }
 ],
 "metadata": {
  "kernelspec": {
   "display_name": "",
   "name": ""
  },
  "language_info": {
   "codemirror_mode": {
    "name": "ipython",
    "version": 3
   },
   "file_extension": ".py",
   "mimetype": "text/x-python",
   "name": "python",
   "nbconvert_exporter": "python",
   "pygments_lexer": "ipython3",
   "version": "3.6.4"
  }
 },
 "nbformat": 4,
 "nbformat_minor": 2
}

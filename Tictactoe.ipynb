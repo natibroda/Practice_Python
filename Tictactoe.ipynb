{
 "cells": [
  {
   "cell_type": "markdown",
   "metadata": {},
   "source": [
    "In this notebook, I will present my solution to the Tic Tac Toe Milestone Project from Udemy Python 3 Bootcamp."
   ]
  },
  {
   "cell_type": "markdown",
   "metadata": {},
   "source": [
    "__Step 1: Write a function that can print out a board. Set up your board as a list, where each index 1-9 corresponds with a number on a number pad, so you get a 3 by 3 board representation.__"
   ]
  },
  {
   "cell_type": "code",
   "execution_count": 1,
   "metadata": {},
   "outputs": [],
   "source": [
    "from IPython.display import clear_output\n",
    "\n",
    "# In my representation, 1 is in the top left corner and 9 in the bottom right corner (seems more logical to me and I don't use numpad).\n",
    "\n",
    "def display_board(board):\n",
    "    clear_output()\n",
    "    string1 = \" \" + board[1] + \" | \" + board[2] + \" | \" + board[3] + \" \"\n",
    "    string2 = \"-----------\"\n",
    "    string3 = \" \" + board[4] + \" | \" + board[5] + \" | \" + board[6] + \" \"\n",
    "    string4 = \"-----------\"\n",
    "    string5 = \" \" + board[7] + \" | \" + board[8] + \" | \" + board[9] + \" \"\n",
    "    \n",
    "    print(f\"{string1}\\n{string2}\\n{string3}\\n{string4}\\n{string5}\")"
   ]
  },
  {
   "cell_type": "code",
   "execution_count": 2,
   "metadata": {},
   "outputs": [
    {
     "name": "stdout",
     "output_type": "stream",
     "text": [
      " X | O | X \n",
      "-----------\n",
      " O | X | O \n",
      "-----------\n",
      " X | O | X \n"
     ]
    }
   ],
   "source": [
    "test_board = ['#','X','O','X','O','X','O','X','O','X']\n",
    "display_board(test_board)"
   ]
  },
  {
   "cell_type": "markdown",
   "metadata": {},
   "source": [
    "__Step 2: Write a function that can take in a player input and assign their marker as 'X' or 'O'. Think about using while loops to continually ask until you get a correct answer.__"
   ]
  },
  {
   "cell_type": "code",
   "execution_count": 3,
   "metadata": {},
   "outputs": [],
   "source": [
    "def player_input():\n",
    "    player1 = ''\n",
    "    player2 = 'X'\n",
    "    while player1 != 'X' and player1 != 'O':\n",
    "        player1 = input(\"Do you want to be 'X' or 'O': \").upper()\n",
    "    if player1 == 'X':\n",
    "        player2 = 'O'\n",
    "    print(f\"Player 1 is {player1}, Player 2 is {player2}.\")\n",
    "    return (player1, player2)"
   ]
  },
  {
   "cell_type": "code",
   "execution_count": 4,
   "metadata": {},
   "outputs": [
    {
     "name": "stdout",
     "output_type": "stream",
     "text": [
      "Player 1 is X, Player 2 is O.\n"
     ]
    },
    {
     "data": {
      "text/plain": [
       "('X', 'O')"
      ]
     },
     "execution_count": 4,
     "metadata": {},
     "output_type": "execute_result"
    }
   ],
   "source": [
    "player_input()"
   ]
  },
  {
   "cell_type": "code",
   "execution_count": 5,
   "metadata": {},
   "outputs": [
    {
     "name": "stdout",
     "output_type": "stream",
     "text": [
      "Player 1 is O, Player 2 is X.\n"
     ]
    },
    {
     "data": {
      "text/plain": [
       "('O', 'X')"
      ]
     },
     "execution_count": 5,
     "metadata": {},
     "output_type": "execute_result"
    }
   ],
   "source": [
    "player_input()"
   ]
  },
  {
   "cell_type": "markdown",
   "metadata": {},
   "source": [
    "__Step 3: Write a function that takes in the board list object, a marker ('X' or 'O'), and a desired position (number 1-9) and assigns it to the board.__"
   ]
  },
  {
   "cell_type": "code",
   "execution_count": 6,
   "metadata": {},
   "outputs": [],
   "source": [
    "def place_marker(board, marker, position):\n",
    "    board[position] = marker\n",
    "    return board"
   ]
  },
  {
   "cell_type": "code",
   "execution_count": 7,
   "metadata": {},
   "outputs": [
    {
     "data": {
      "text/plain": [
       "['#', 'X', 'O', 'X', 'O', 'X', 'O', 'X', '$', 'X']"
      ]
     },
     "execution_count": 7,
     "metadata": {},
     "output_type": "execute_result"
    }
   ],
   "source": [
    "place_marker(test_board,'$',8)"
   ]
  },
  {
   "cell_type": "code",
   "execution_count": 8,
   "metadata": {},
   "outputs": [
    {
     "name": "stdout",
     "output_type": "stream",
     "text": [
      " X | O | X \n",
      "-----------\n",
      " O | X | O \n",
      "-----------\n",
      " X | $ | X \n"
     ]
    }
   ],
   "source": [
    "display_board(test_board)"
   ]
  },
  {
   "cell_type": "markdown",
   "metadata": {},
   "source": [
    "__Step 4: Write a function that takes in a board and a mark (X or O) and then checks to see if that mark has won.__"
   ]
  },
  {
   "cell_type": "code",
   "execution_count": 9,
   "metadata": {},
   "outputs": [],
   "source": [
    "def win_check(board, mark):\n",
    "    # Consider all winning options\n",
    "    win1 = (board[1] == mark and board[2] == mark and board[3] == mark)\n",
    "    win2 = (board[4] == mark and board[5] == mark and board[6] == mark)\n",
    "    win3 = (board[7] == mark and board[8] == mark and board[9] == mark)\n",
    "    win4 = (board[1] == mark and board[4] == mark and board[7] == mark)\n",
    "    win5 = (board[2] == mark and board[5] == mark and board[8] == mark)\n",
    "    win6 = (board[3] == mark and board[6] == mark and board[9] == mark)\n",
    "    win7 = (board[1] == mark and board[5] == mark and board[9] == mark)\n",
    "    win8 = (board[3] == mark and board[5] == mark and board[7] == mark)\n",
    "    return (win1 or win2 or win3 or win4 or win5 or win6 or win7 or win8)    "
   ]
  },
  {
   "cell_type": "code",
   "execution_count": 10,
   "metadata": {},
   "outputs": [
    {
     "data": {
      "text/plain": [
       "True"
      ]
     },
     "execution_count": 10,
     "metadata": {},
     "output_type": "execute_result"
    }
   ],
   "source": [
    "win_check(test_board,'X')"
   ]
  },
  {
   "cell_type": "markdown",
   "metadata": {},
   "source": [
    "__Step 5: Write a function that uses the random module to randomly decide which player goes first. You may want to lookup random.randint() Return a string of which player went first.__"
   ]
  },
  {
   "cell_type": "code",
   "execution_count": 11,
   "metadata": {},
   "outputs": [],
   "source": [
    "from random import randint\n",
    "\n",
    "def choose_first():\n",
    "    number = randint(1,2)\n",
    "    if number == 1:\n",
    "        return 'Player 1'\n",
    "    else:\n",
    "        return 'Player 2'"
   ]
  },
  {
   "cell_type": "code",
   "execution_count": 12,
   "metadata": {},
   "outputs": [
    {
     "data": {
      "text/plain": [
       "'Player 2'"
      ]
     },
     "execution_count": 12,
     "metadata": {},
     "output_type": "execute_result"
    }
   ],
   "source": [
    "choose_first()"
   ]
  },
  {
   "cell_type": "code",
   "execution_count": 13,
   "metadata": {},
   "outputs": [
    {
     "data": {
      "text/plain": [
       "'Player 2'"
      ]
     },
     "execution_count": 13,
     "metadata": {},
     "output_type": "execute_result"
    }
   ],
   "source": [
    "choose_first()"
   ]
  },
  {
   "cell_type": "markdown",
   "metadata": {},
   "source": [
    "__Step 6: Write a function that returns a boolean indicating whether a space on the board is freely available.__"
   ]
  },
  {
   "cell_type": "code",
   "execution_count": 14,
   "metadata": {},
   "outputs": [],
   "source": [
    "def space_check(board, position):\n",
    "    return board[position] == ' '"
   ]
  },
  {
   "cell_type": "code",
   "execution_count": 15,
   "metadata": {},
   "outputs": [
    {
     "data": {
      "text/plain": [
       "False"
      ]
     },
     "execution_count": 15,
     "metadata": {},
     "output_type": "execute_result"
    }
   ],
   "source": [
    "space_check(test_board, 1)"
   ]
  },
  {
   "cell_type": "markdown",
   "metadata": {},
   "source": [
    "__Step 7: Write a function that checks if the board is full and returns a boolean value. True if full, False otherwise.__"
   ]
  },
  {
   "cell_type": "code",
   "execution_count": 16,
   "metadata": {},
   "outputs": [],
   "source": [
    "def full_board_check(board):\n",
    "    for i in range(1, len(board)):\n",
    "        if space_check(board, i):\n",
    "            return False\n",
    "    return True"
   ]
  },
  {
   "cell_type": "code",
   "execution_count": 17,
   "metadata": {},
   "outputs": [
    {
     "data": {
      "text/plain": [
       "True"
      ]
     },
     "execution_count": 17,
     "metadata": {},
     "output_type": "execute_result"
    }
   ],
   "source": [
    "full_board_check(test_board)"
   ]
  },
  {
   "cell_type": "markdown",
   "metadata": {},
   "source": [
    "__Step 8: Write a function that asks for a player's next position (as a number 1-9) and then uses the function from step 6 to check if it's a free position. If it is, then return the position for later use.__"
   ]
  },
  {
   "cell_type": "code",
   "execution_count": 18,
   "metadata": {},
   "outputs": [],
   "source": [
    "def player_choice(board):\n",
    "    position = int(input('Please enter a number: '))\n",
    "    while space_check(board, position) == False:\n",
    "        position = int(input('Position already taken. Please enter diferent a number: '))\n",
    "    return position"
   ]
  },
  {
   "cell_type": "code",
   "execution_count": 19,
   "metadata": {},
   "outputs": [],
   "source": [
    "test_board1 = ['#', ' ', 'X', 'O', 'X', ' ', ' ', ' ', 'O', ' ']"
   ]
  },
  {
   "cell_type": "code",
   "execution_count": 20,
   "metadata": {},
   "outputs": [
    {
     "name": "stdout",
     "output_type": "stream",
     "text": [
      "   | X | O \n",
      "-----------\n",
      " X |   |   \n",
      "-----------\n",
      "   | O |   \n"
     ]
    }
   ],
   "source": [
    "display_board(test_board1)"
   ]
  },
  {
   "cell_type": "code",
   "execution_count": 21,
   "metadata": {},
   "outputs": [
    {
     "data": {
      "text/plain": [
       "5"
      ]
     },
     "execution_count": 21,
     "metadata": {},
     "output_type": "execute_result"
    }
   ],
   "source": [
    "player_choice(test_board1)"
   ]
  },
  {
   "cell_type": "markdown",
   "metadata": {},
   "source": [
    "__Step 9: Write a function that asks the player if they want to play again and returns a boolean True if they do want to play again.__"
   ]
  },
  {
   "cell_type": "code",
   "execution_count": 22,
   "metadata": {},
   "outputs": [],
   "source": [
    "def replay():\n",
    "    play_again = input('Would you like to play again? (y/n): ')\n",
    "    if play_again == 'y':\n",
    "        return True\n",
    "    else:\n",
    "        return False"
   ]
  },
  {
   "cell_type": "code",
   "execution_count": 23,
   "metadata": {},
   "outputs": [
    {
     "data": {
      "text/plain": [
       "True"
      ]
     },
     "execution_count": 23,
     "metadata": {},
     "output_type": "execute_result"
    }
   ],
   "source": [
    "replay()"
   ]
  },
  {
   "cell_type": "code",
   "execution_count": 24,
   "metadata": {},
   "outputs": [
    {
     "data": {
      "text/plain": [
       "False"
      ]
     },
     "execution_count": 24,
     "metadata": {},
     "output_type": "execute_result"
    }
   ],
   "source": [
    "replay()"
   ]
  },
  {
   "cell_type": "markdown",
   "metadata": {},
   "source": [
    "__Step 10: Here comes the hard part! Use while loops and the functions you've made to run the game!__"
   ]
  },
  {
   "cell_type": "code",
   "execution_count": 25,
   "metadata": {},
   "outputs": [
    {
     "name": "stdout",
     "output_type": "stream",
     "text": [
      " X | O | O \n",
      "-----------\n",
      " X | O |   \n",
      "-----------\n",
      " O | X |   \n",
      "Congratulations! You won the game!\n"
     ]
    }
   ],
   "source": [
    "# While game is on\n",
    "game_on = True\n",
    "\n",
    "while game_on:\n",
    "# Display welcome message and the board\n",
    "        print(\"Welcome to Tic Tac Toe!\")\n",
    "        board = ['#', ' ', ' ', ' ', ' ', ' ', ' ', ' ', ' ', ' ']\n",
    "        display_board(board)\n",
    "# Ask player 1 for marker\n",
    "        markers = player_input()\n",
    "# Use counter turn to identify which player's move it is\n",
    "        turn = 1\n",
    "# Randomly choose which player goes first\n",
    "        first = choose_first()\n",
    "        if first == \"Player 1\":\n",
    "            turn = 1\n",
    "        else:\n",
    "            turn = 2\n",
    "        print(f\"{first} goes first.\")\n",
    "# Check if board full, if not, ask for position\n",
    "        while not full_board_check(board):\n",
    "            if turn % 2 != 0:\n",
    "                player = markers[0]\n",
    "            else:\n",
    "                player = markers[1]\n",
    "            position = player_choice(board)\n",
    "            board = place_marker(board, player, position)\n",
    "            display_board(board)\n",
    "# Check if player won\n",
    "            if win_check(board, player) == True:\n",
    "                print(\"Congratulations! You won the game!\")\n",
    "                break\n",
    "            else:\n",
    "                turn += 1\n",
    "                continue\n",
    "        \n",
    "        game_on = replay()"
   ]
  },
  {
   "cell_type": "code",
   "execution_count": null,
   "metadata": {},
   "outputs": [],
   "source": []
  }
 ],
 "metadata": {
  "kernelspec": {
   "display_name": "Python 3",
   "language": "python",
   "name": "python3"
  },
  "language_info": {
   "codemirror_mode": {
    "name": "ipython",
    "version": 3
   },
   "file_extension": ".py",
   "mimetype": "text/x-python",
   "name": "python",
   "nbconvert_exporter": "python",
   "pygments_lexer": "ipython3",
   "version": "3.6.4"
  }
 },
 "nbformat": 4,
 "nbformat_minor": 2
}
